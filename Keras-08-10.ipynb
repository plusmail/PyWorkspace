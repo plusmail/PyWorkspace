{
  "nbformat": 4,
  "nbformat_minor": 0,
  "metadata": {
    "colab": {
      "name": "Untitled0.ipynb",
      "provenance": [],
      "authorship_tag": "ABX9TyO8FXZWHstbu29QbrpoeJbX",
      "include_colab_link": true
    },
    "kernelspec": {
      "name": "python3",
      "display_name": "Python 3"
    },
    "language_info": {
      "name": "python"
    }
  },
  "cells": [
    {
      "cell_type": "markdown",
      "metadata": {
        "id": "view-in-github",
        "colab_type": "text"
      },
      "source": [
        "<a href=\"https://colab.research.google.com/github/plusmail/PyWorkspace/blob/master/Keras-08-10.ipynb\" target=\"_parent\"><img src=\"https://colab.research.google.com/assets/colab-badge.svg\" alt=\"Open In Colab\"/></a>"
      ]
    },
    {
      "cell_type": "code",
      "metadata": {
        "colab": {
          "base_uri": "https://localhost:8080/"
        },
        "id": "fWoGkQPn0HfO",
        "outputId": "894a771b-164c-4bcf-8a3b-61e402830949"
      },
      "source": [
        "from keras.applications import inception_v3\n",
        "from keras import backend as K\n",
        "K.set_learning_phase(0)\n",
        "model = inception_v3.InceptionV3(weights ='imagenet', include_top = False)\n"
      ],
      "execution_count": 6,
      "outputs": [
        {
          "output_type": "stream",
          "text": [
            "/usr/local/lib/python3.7/dist-packages/tensorflow/python/keras/backend.py:434: UserWarning: `tf.keras.backend.set_learning_phase` is deprecated and will be removed after 2020-10-11. To update it, simply pass a True/False value to the `training` argument of the `__call__` method of your layer or model.\n",
            "  warnings.warn('`tf.keras.backend.set_learning_phase` is deprecated and '\n"
          ],
          "name": "stderr"
        }
      ]
    },
    {
      "cell_type": "code",
      "metadata": {
        "id": "VUON2-c41Hmp"
      },
      "source": [
        "layer_contributions = { \n",
        "    'mixed2' : 0.2,\n",
        "    'mixed3' : 3.,\n",
        "    'mixed4' : 2.,\n",
        "    'mixed5' : 1.5,\n",
        "}"
      ],
      "execution_count": 7,
      "outputs": []
    },
    {
      "cell_type": "code",
      "metadata": {
        "id": "xAdAnkVU1gxE"
      },
      "source": [
        "layer_dict = dict([(layer.name, layer) for layer in model.layers])\n",
        "loss = K.variable(0.)\n",
        "for layer_name in layer_contributions:\n",
        "  coeff = layer_contributions[layer_name]\n",
        "  activation = layer_dict[layer_name].output\n",
        "\n",
        "  scaling = K.prod(K.cast(K.shape(activation), 'float32'))\n",
        "  loss += coeff * K.sum(K.squre(activation[:, 2: -2, 2: -2, :])) / scaling\n",
        "\n",
        "  dream = model.input\n",
        "  grads = K.gradients(loss, dream)[0]\n",
        "  grads /= K.maximum(K.mean(K.abs(grads)), 1e-7)\n",
        "\n",
        "  outputs = [loss, grads]\n",
        "  fetch_loss_and_grads = K.fuction([dream],outpus)\n",
        "\n",
        "def eval_loss_and_grads(x):\n",
        "  outs = fetch_loss_and_grads([x])\n",
        "  loss_value = outs[0]\n",
        "  grad_values = outs[1]\n",
        "  return loss_value, grad_values\n",
        "\n",
        "def gradient_ascent(x, iterations ,step, max_loss=None):\n",
        "  for i in range(interations):\n",
        "    loss_value, grad_values = eval_loss_and_grads(x)\n",
        "\n",
        "    if max_loss is not Nonw and loss_value > max_loss:\n",
        "      break\n",
        "    print('.....', i , '번째손실 : ', loss_value)\n",
        "    x += step * grad_values\n",
        "  return x"
      ],
      "execution_count": 8,
      "outputs": []
    }
  ]
}